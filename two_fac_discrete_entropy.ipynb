{
 "cells": [
  {
   "cell_type": "markdown",
   "metadata": {},
   "source": [
    "# Discrete_entropy, two dimensional array"
   ]
  },
  {
   "cell_type": "markdown",
   "metadata": {},
   "source": [
    "Author: Heng Shi\n",
    "\n",
    "This is discrete entropy assessment to see what in 2 factor system, how correlated sources affect the finally entropy."
   ]
  },
  {
   "cell_type": "markdown",
   "metadata": {},
   "source": [
    "### import libs"
   ]
  },
  {
   "cell_type": "code",
   "execution_count": 1,
   "metadata": {
    "collapsed": false
   },
   "outputs": [],
   "source": [
    "import numpy as np\n",
    "import matplotlib as mpl\n",
    "opt = 3\n",
    "len = 10"
   ]
  },
  {
   "cell_type": "markdown",
   "metadata": {},
   "source": [
    "### define factors"
   ]
  },
  {
   "cell_type": "code",
   "execution_count": 2,
   "metadata": {
    "collapsed": false
   },
   "outputs": [],
   "source": [
    "fac1 = ['3','2','1','2','1','3','1','3','2','2'] # factor 1: 1,2,3\n",
    "fac2 = ['a','b','c','c','c','a','c','b','a','a'] # factor 2: a,b,c\n",
    "dic1 = {'1':0, '2':0, '3':0}\n",
    "dic2 = {'a':0, 'b':0, 'c':0}"
   ]
  },
  {
   "cell_type": "markdown",
   "metadata": {},
   "source": [
    "### initialize datas"
   ]
  },
  {
   "cell_type": "code",
   "execution_count": 3,
   "metadata": {
    "collapsed": false
   },
   "outputs": [],
   "source": [
    "for i in fac1:\n",
    "    entry = i #'%d' % i\n",
    "    dic1[entry]+=1\n",
    "for j in fac2:\n",
    "    entry = j #'%d' % i\n",
    "    dic2[entry]+=1"
   ]
  },
  {
   "cell_type": "markdown",
   "metadata": {
    "collapsed": true
   },
   "source": [
    "### calculate entropy"
   ]
  },
  {
   "cell_type": "code",
   "execution_count": 4,
   "metadata": {
    "collapsed": false
   },
   "outputs": [],
   "source": [
    "def cal_ent(dic,optn):\n",
    "    p = np.zeros((optn,1))\n",
    "    i = 0\n",
    "    for entry in dic:\n",
    "        p[i] = dic[entry]/10.0\n",
    "        i += 1\n",
    "    return cal_en_ar(p,optn)"
   ]
  },
  {
   "cell_type": "code",
   "execution_count": 5,
   "metadata": {
    "collapsed": true
   },
   "outputs": [],
   "source": [
    "def cal_en_ar(arr,num):\n",
    "    entropy_base = 0.0\n",
    "    for i in range(num):\n",
    "        entropy_base -= arr[i]*np.log(arr[i])\n",
    "    return entropy_base"
   ]
  },
  {
   "cell_type": "code",
   "execution_count": 6,
   "metadata": {
    "collapsed": true
   },
   "outputs": [],
   "source": [
    "def pmat2(dic1,dic2,optn):\n",
    "    p1 = np.zeros((optn,1))\n",
    "    p2 = np.zeros((1,optn))\n",
    "    i = 0\n",
    "    for entry in dic1:\n",
    "        p1[i] = dic1[entry]/10.0\n",
    "        i+=1\n",
    "    i = 0\n",
    "    for entry in dic2:\n",
    "        p2[0][i] = dic2[entry]/10.0\n",
    "        i+=1\n",
    "    \n",
    "    p_mat = np.zeros((optn,optn))\n",
    "    for i in range(optn):\n",
    "        for j in range(optn):\n",
    "            p_mat[i][j] = p1[i]*p2[0][j]\n",
    "    return p_mat"
   ]
  },
  {
   "cell_type": "code",
   "execution_count": 7,
   "metadata": {
    "collapsed": false
   },
   "outputs": [],
   "source": [
    "ent1 = cal_ent(dic1,opt)\n",
    "ent2 = cal_ent(dic2,opt)"
   ]
  },
  {
   "cell_type": "code",
   "execution_count": 8,
   "metadata": {
    "collapsed": false
   },
   "outputs": [],
   "source": [
    "p_2d = pmat2(dic1,dic2,opt)"
   ]
  },
  {
   "cell_type": "code",
   "execution_count": 9,
   "metadata": {
    "collapsed": false
   },
   "outputs": [
    {
     "data": {
      "text/plain": [
       "array([[ 0.12,  0.12,  0.06],\n",
       "       [ 0.12,  0.12,  0.06],\n",
       "       [ 0.16,  0.16,  0.08]])"
      ]
     },
     "execution_count": 9,
     "metadata": {},
     "output_type": "execute_result"
    }
   ],
   "source": [
    "p_2d"
   ]
  },
  {
   "cell_type": "code",
   "execution_count": 10,
   "metadata": {
    "collapsed": false
   },
   "outputs": [
    {
     "data": {
      "text/plain": [
       "array([[ 0.12,  0.12,  0.06,  0.12,  0.12,  0.06,  0.16,  0.16,  0.08]])"
      ]
     },
     "execution_count": 10,
     "metadata": {},
     "output_type": "execute_result"
    }
   ],
   "source": [
    "p1d = p_2d.reshape((1,opt*opt))\n",
    "p1d"
   ]
  },
  {
   "cell_type": "code",
   "execution_count": 12,
   "metadata": {
    "collapsed": false
   },
   "outputs": [
    {
     "data": {
      "text/plain": [
       "array([ 2.14382014])"
      ]
     },
     "execution_count": 12,
     "metadata": {},
     "output_type": "execute_result"
    }
   ],
   "source": [
    "ent12 = cal_en_ar(p1d.T,opt*opt)\n",
    "ent12"
   ]
  },
  {
   "cell_type": "code",
   "execution_count": 13,
   "metadata": {
    "collapsed": false
   },
   "outputs": [
    {
     "name": "stdout",
     "output_type": "stream",
     "text": [
      "[ 0.]\n"
     ]
    }
   ],
   "source": [
    "print ent1+ent2-ent12"
   ]
  },
  {
   "cell_type": "code",
   "execution_count": null,
   "metadata": {
    "collapsed": true
   },
   "outputs": [],
   "source": []
  }
 ],
 "metadata": {
  "kernelspec": {
   "display_name": "Python 2",
   "language": "python",
   "name": "python2"
  },
  "language_info": {
   "codemirror_mode": {
    "name": "ipython",
    "version": 2
   },
   "file_extension": ".py",
   "mimetype": "text/x-python",
   "name": "python",
   "nbconvert_exporter": "python",
   "pygments_lexer": "ipython2",
   "version": "2.7.12"
  }
 },
 "nbformat": 4,
 "nbformat_minor": 0
}
