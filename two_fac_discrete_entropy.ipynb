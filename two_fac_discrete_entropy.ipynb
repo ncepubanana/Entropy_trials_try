{
 "cells": [
  {
   "cell_type": "markdown",
   "metadata": {},
   "source": [
    "# Discrete_entropy, two dimensional array"
   ]
  },
  {
   "cell_type": "markdown",
   "metadata": {},
   "source": [
    "Author: Heng Shi\n",
    "\n",
    "This is discrete entropy assessment to see what in 2 factor system, how correlated sources affect the finally entropy."
   ]
  },
  {
   "cell_type": "markdown",
   "metadata": {},
   "source": [
    "### import libs"
   ]
  },
  {
   "cell_type": "code",
   "execution_count": 1,
   "metadata": {
    "collapsed": false
   },
   "outputs": [],
   "source": [
    "import numpy as np\n",
    "import matplotlib as mp\n",
    "import pandas as pd\n",
    "from pandas import Series, DataFrame\n",
    "import csv\n",
    "import math"
   ]
  },
  {
   "cell_type": "markdown",
   "metadata": {},
   "source": [
    "### define factors"
   ]
  },
  {
   "cell_type": "code",
   "execution_count": 2,
   "metadata": {
    "collapsed": false
   },
   "outputs": [],
   "source": [
    "input_name = './input_arr.csv'\n",
    "df = pd.read_csv(input_name)\n",
    "ds = np.array(df)"
   ]
  },
  {
   "cell_type": "code",
   "execution_count": 3,
   "metadata": {
    "collapsed": false
   },
   "outputs": [
    {
     "name": "stdout",
     "output_type": "stream",
     "text": [
      "4.0\n"
     ]
    }
   ],
   "source": [
    "arr1 = ds[:,1]\n",
    "arr2 = ds[:,2]\n",
    "length = arr1.shape[0]\n",
    "sce = max(arr1)\n",
    "print sce"
   ]
  },
  {
   "cell_type": "markdown",
   "metadata": {},
   "source": [
    "### Proba 1D"
   ]
  },
  {
   "cell_type": "code",
   "execution_count": 4,
   "metadata": {
    "collapsed": false
   },
   "outputs": [
    {
     "name": "stderr",
     "output_type": "stream",
     "text": [
      "/usr/local/lib/python2.7/dist-packages/ipykernel/__main__.py:1: DeprecationWarning: using a non-integer number instead of an integer will result in an error in the future\n",
      "  if __name__ == '__main__':\n",
      "/usr/local/lib/python2.7/dist-packages/ipykernel/__main__.py:2: DeprecationWarning: using a non-integer number instead of an integer will result in an error in the future\n",
      "  from ipykernel import kernelapp as app\n",
      "/usr/local/lib/python2.7/dist-packages/ipykernel/__main__.py:4: DeprecationWarning: using a non-integer number instead of an integer will result in an error in the future\n",
      "/usr/local/lib/python2.7/dist-packages/ipykernel/__main__.py:5: DeprecationWarning: using a non-integer number instead of an integer will result in an error in the future\n"
     ]
    }
   ],
   "source": [
    "prob1d_a = np.zeros((sce+1,1))\n",
    "prob1d_b = np.zeros((sce+1,1))\n",
    "for i in range(length):\n",
    "    prob1d_a[arr1[i]] += 1\n",
    "    prob1d_b[arr2[i]] += 1\n",
    "prob1d_a = prob1d_a/100.0\n",
    "prob1d_b = prob1d_b/100.0"
   ]
  },
  {
   "cell_type": "markdown",
   "metadata": {},
   "source": [
    "### prob2d"
   ]
  },
  {
   "cell_type": "code",
   "execution_count": 5,
   "metadata": {
    "collapsed": false
   },
   "outputs": [
    {
     "name": "stdout",
     "output_type": "stream",
     "text": [
      "[[ 0.05  0.04  0.04  0.03  0.05]\n",
      " [ 0.03  0.05  0.05  0.04  0.05]\n",
      " [ 0.03  0.02  0.04  0.01  0.03]\n",
      " [ 0.06  0.07  0.03  0.04  0.03]\n",
      " [ 0.02  0.05  0.05  0.04  0.05]]\n",
      "1.0\n"
     ]
    },
    {
     "name": "stderr",
     "output_type": "stream",
     "text": [
      "/usr/local/lib/python2.7/dist-packages/ipykernel/__main__.py:1: DeprecationWarning: using a non-integer number instead of an integer will result in an error in the future\n",
      "  if __name__ == '__main__':\n",
      "/usr/local/lib/python2.7/dist-packages/ipykernel/__main__.py:3: DeprecationWarning: using a non-integer number instead of an integer will result in an error in the future\n",
      "  app.launch_new_instance()\n"
     ]
    }
   ],
   "source": [
    "prob2d = np.zeros((sce+1,sce+1))\n",
    "for i in range(length):\n",
    "    prob2d[arr1[i]][arr2[i]] += 1\n",
    "prob2d = prob2d/100.0\n",
    "print prob2d\n",
    "print sum(sum(prob2d))"
   ]
  },
  {
   "cell_type": "markdown",
   "metadata": {
    "collapsed": true
   },
   "source": [
    "### calculate entropy"
   ]
  },
  {
   "cell_type": "code",
   "execution_count": 6,
   "metadata": {
    "collapsed": false
   },
   "outputs": [],
   "source": [
    "def cal_ent(mat,dim):\n",
    "    [sha1,sha2] = mat.shape\n",
    "    len = sha1*sha2\n",
    "    tmat = mat.reshape((len,1))\n",
    "    ent_base = 0.0\n",
    "    for i in range(len):\n",
    "        ent_base -= tmat[i]*np.log(tmat[i])\n",
    "    print ent_base\n",
    "    return ent_base"
   ]
  },
  {
   "cell_type": "code",
   "execution_count": 8,
   "metadata": {
    "collapsed": false
   },
   "outputs": [
    {
     "name": "stdout",
     "output_type": "stream",
     "text": [
      "[ 1.59183434]\n",
      "[ 1.60224949]\n",
      "[ 3.159489]\n"
     ]
    },
    {
     "data": {
      "text/plain": [
       "array([ 0.03459483])"
      ]
     },
     "execution_count": 8,
     "metadata": {},
     "output_type": "execute_result"
    }
   ],
   "source": [
    "# 1d entropy\n",
    "en_1d_a = cal_ent(prob1d_a,1)\n",
    "en_1d_b = cal_ent(prob1d_b,1)\n",
    "en_2d = cal_ent(prob2d,2)\n",
    "en_1d_a+en_1d_b-en_2d"
   ]
  },
  {
   "cell_type": "code",
   "execution_count": null,
   "metadata": {
    "collapsed": true
   },
   "outputs": [],
   "source": []
  }
 ],
 "metadata": {
  "kernelspec": {
   "display_name": "Python 2",
   "language": "python",
   "name": "python2"
  },
  "language_info": {
   "codemirror_mode": {
    "name": "ipython",
    "version": 2
   },
   "file_extension": ".py",
   "mimetype": "text/x-python",
   "name": "python",
   "nbconvert_exporter": "python",
   "pygments_lexer": "ipython2",
   "version": "2.7.12"
  }
 },
 "nbformat": 4,
 "nbformat_minor": 0
}
