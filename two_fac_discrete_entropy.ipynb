{
 "cells": [
  {
   "cell_type": "markdown",
   "metadata": {},
   "source": [
    "# Discrete_entropy, two dimensional array"
   ]
  },
  {
   "cell_type": "markdown",
   "metadata": {},
   "source": [
    "Author: Heng Shi\n",
    "\n",
    "This is discrete entropy assessment to see what in 2 factor system, how correlated sources affect the finally entropy."
   ]
  },
  {
   "cell_type": "markdown",
   "metadata": {},
   "source": [
    "### import libs"
   ]
  },
  {
   "cell_type": "code",
   "execution_count": 1,
   "metadata": {
    "collapsed": false
   },
   "outputs": [],
   "source": [
    "import numpy as np\n",
    "import matplotlib as mp\n",
    "import pandas as pd\n",
    "from pandas import Series, DataFrame\n",
    "import csv\n",
    "import math"
   ]
  },
  {
   "cell_type": "markdown",
   "metadata": {},
   "source": [
    "### define factors"
   ]
  },
  {
   "cell_type": "code",
   "execution_count": 2,
   "metadata": {
    "collapsed": false
   },
   "outputs": [],
   "source": [
    "input_name = './input_arr.csv'\n",
    "df = pd.read_csv(input_name)\n",
    "ds = np.array(df)"
   ]
  },
  {
   "cell_type": "code",
   "execution_count": 3,
   "metadata": {
    "collapsed": false
   },
   "outputs": [
    {
     "name": "stdout",
     "output_type": "stream",
     "text": [
      "10000 9.0\n"
     ]
    }
   ],
   "source": [
    "arr1 = ds[:,1]\n",
    "arr2 = ds[:,2]\n",
    "length = arr1.shape[0]\n",
    "sce = max(arr1)\n",
    "print length,sce"
   ]
  },
  {
   "cell_type": "markdown",
   "metadata": {},
   "source": [
    "### Proba 1D"
   ]
  },
  {
   "cell_type": "code",
   "execution_count": 4,
   "metadata": {
    "collapsed": false
   },
   "outputs": [
    {
     "name": "stdout",
     "output_type": "stream",
     "text": [
      "[ 1.]\n",
      "[ 1.]\n"
     ]
    },
    {
     "name": "stderr",
     "output_type": "stream",
     "text": [
      "/usr/local/lib/python2.7/dist-packages/ipykernel/__main__.py:1: DeprecationWarning: using a non-integer number instead of an integer will result in an error in the future\n",
      "  if __name__ == '__main__':\n",
      "/usr/local/lib/python2.7/dist-packages/ipykernel/__main__.py:2: DeprecationWarning: using a non-integer number instead of an integer will result in an error in the future\n",
      "  from ipykernel import kernelapp as app\n",
      "/usr/local/lib/python2.7/dist-packages/ipykernel/__main__.py:4: DeprecationWarning: using a non-integer number instead of an integer will result in an error in the future\n",
      "/usr/local/lib/python2.7/dist-packages/ipykernel/__main__.py:5: DeprecationWarning: using a non-integer number instead of an integer will result in an error in the future\n"
     ]
    }
   ],
   "source": [
    "prob1d_a = np.zeros((sce+1,1))\n",
    "prob1d_b = np.zeros((sce+1,1))\n",
    "for i in range(length):\n",
    "    prob1d_a[arr1[i]] += 1\n",
    "    prob1d_b[arr2[i]] += 1\n",
    "prob1d_a = prob1d_a/(length*1.0)\n",
    "prob1d_b = prob1d_b/(length*1.0)\n",
    "print sum(prob1d_a)\n",
    "print sum(prob1d_b)"
   ]
  },
  {
   "cell_type": "markdown",
   "metadata": {},
   "source": [
    "### prob2d"
   ]
  },
  {
   "cell_type": "code",
   "execution_count": 5,
   "metadata": {
    "collapsed": false
   },
   "outputs": [
    {
     "name": "stdout",
     "output_type": "stream",
     "text": [
      "[[ 0.0114  0.012   0.0109  0.0099  0.0098  0.01    0.0107  0.0091  0.0092\n",
      "   0.01  ]\n",
      " [ 0.0088  0.0098  0.0094  0.0105  0.0085  0.0089  0.0106  0.0099  0.0106\n",
      "   0.009 ]\n",
      " [ 0.0105  0.0089  0.0108  0.0111  0.0084  0.0109  0.0104  0.0125  0.0087\n",
      "   0.0104]\n",
      " [ 0.011   0.0098  0.0096  0.0089  0.0104  0.0087  0.0102  0.0095  0.0103\n",
      "   0.0102]\n",
      " [ 0.0103  0.0096  0.0088  0.0097  0.0111  0.0108  0.0101  0.0084  0.0106\n",
      "   0.0091]\n",
      " [ 0.0113  0.0098  0.0094  0.0095  0.0099  0.0106  0.0094  0.0105  0.011\n",
      "   0.0105]\n",
      " [ 0.0111  0.0097  0.0097  0.0112  0.0124  0.0096  0.0103  0.0095  0.0114\n",
      "   0.0076]\n",
      " [ 0.0086  0.0089  0.0098  0.0083  0.0103  0.0092  0.0099  0.0097  0.0103\n",
      "   0.0114]\n",
      " [ 0.0105  0.0085  0.0099  0.0103  0.0115  0.0095  0.0104  0.0105  0.011\n",
      "   0.0096]\n",
      " [ 0.01    0.0114  0.0102  0.009   0.0104  0.009   0.0097  0.0082  0.0111\n",
      "   0.0098]]\n",
      "1.0\n"
     ]
    },
    {
     "name": "stderr",
     "output_type": "stream",
     "text": [
      "/usr/local/lib/python2.7/dist-packages/ipykernel/__main__.py:1: DeprecationWarning: using a non-integer number instead of an integer will result in an error in the future\n",
      "  if __name__ == '__main__':\n",
      "/usr/local/lib/python2.7/dist-packages/ipykernel/__main__.py:3: DeprecationWarning: using a non-integer number instead of an integer will result in an error in the future\n",
      "  app.launch_new_instance()\n"
     ]
    }
   ],
   "source": [
    "prob2d = np.zeros((sce+1,sce+1))\n",
    "for i in range(length):\n",
    "    prob2d[arr1[i]][arr2[i]] += 1\n",
    "prob2d = prob2d/(length*1.0)\n",
    "print prob2d\n",
    "print sum(sum(prob2d))"
   ]
  },
  {
   "cell_type": "markdown",
   "metadata": {
    "collapsed": true
   },
   "source": [
    "### calculate entropy"
   ]
  },
  {
   "cell_type": "code",
   "execution_count": 12,
   "metadata": {
    "collapsed": false
   },
   "outputs": [],
   "source": [
    "def cal_ent(mat,dim):\n",
    "    [sha1,sha2] = mat.shape\n",
    "    len = sha1*sha2\n",
    "    tmat = mat.reshape((len,1))\n",
    "    ent_base = 0.0\n",
    "    for i in range(len):\n",
    "        ent_base -= tmat[i]*np.log(tmat[i])\n",
    "    return ent_base"
   ]
  },
  {
   "cell_type": "markdown",
   "metadata": {},
   "source": [
    "### Assessment"
   ]
  },
  {
   "cell_type": "code",
   "execution_count": 22,
   "metadata": {
    "collapsed": false
   },
   "outputs": [
    {
     "name": "stdout",
     "output_type": "stream",
     "text": [
      "var a entropy: 2.302269\n",
      "var b entropy: 2.302257\n",
      "var a&b 2d entropy: 4.600722\n",
      "entropy disapeared: 0.003803\n",
      "correlation coef: 0.009883\n"
     ]
    }
   ],
   "source": [
    "# compare 1d 2d entropy\n",
    "en_1d_a = cal_ent(prob1d_a,1)\n",
    "print 'var a entropy: %2f' % en_1d_a\n",
    "en_1d_b = cal_ent(prob1d_b,1)\n",
    "print 'var b entropy: %2f' % en_1d_b\n",
    "en_2d = cal_ent(prob2d,2)\n",
    "print 'var a&b 2d entropy: %2f' % en_2d\n",
    "en_disp = en_1d_a*1.0 + en_1d_b*1.0 - en_2d*1.0\n",
    "print 'entropy disapeared: %2f' % en_disp\n",
    "# correlation\n",
    "cor = np.corrcoef(arr1,arr2)\n",
    "print 'correlation coef: %2f' % cor[0,1]"
   ]
  },
  {
   "cell_type": "markdown",
   "metadata": {
    "collapsed": true
   },
   "source": [
    "This result comes out a nature of randomness. For 2 independent variables, the combination of entropy is about to its summation\n",
    "\n",
    "And "
   ]
  },
  {
   "cell_type": "code",
   "execution_count": null,
   "metadata": {
    "collapsed": true
   },
   "outputs": [],
   "source": []
  }
 ],
 "metadata": {
  "kernelspec": {
   "display_name": "Python 2",
   "language": "python",
   "name": "python2"
  },
  "language_info": {
   "codemirror_mode": {
    "name": "ipython",
    "version": 2
   },
   "file_extension": ".py",
   "mimetype": "text/x-python",
   "name": "python",
   "nbconvert_exporter": "python",
   "pygments_lexer": "ipython2",
   "version": "2.7.12"
  }
 },
 "nbformat": 4,
 "nbformat_minor": 0
}
